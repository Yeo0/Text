{
 "cells": [
  {
   "cell_type": "code",
   "execution_count": 4,
   "metadata": {},
   "outputs": [
    {
     "name": "stderr",
     "output_type": "stream",
     "text": [
      "/anaconda3/lib/python3.6/site-packages/konlpy/tag/_okt.py:16: UserWarning: \"Twitter\" has changed to \"Okt\" since KoNLPy v0.4.5.\n",
      "  warn('\"Twitter\" has changed to \"Okt\" since KoNLPy v0.4.5.')\n"
     ]
    },
    {
     "name": "stdout",
     "output_type": "stream",
     "text": [
      "[('아버지', 'Noun'), ('가방', 'Noun'), ('에', 'Josa'), ('들어가다', 'Verb'), ('.', 'Punctuation')]\n"
     ]
    }
   ],
   "source": [
    "from konlpy.tag import Twitter\n",
    "twitter = Twitter()\n",
    "malist=twitter.pos(\"아버지 가방에 들어가신다.\",norm=True, stem=True)\n",
    "print(malist)"
   ]
  },
  {
   "cell_type": "code",
   "execution_count": 23,
   "metadata": {},
   "outputs": [
    {
     "name": "stderr",
     "output_type": "stream",
     "text": [
      "/anaconda3/lib/python3.6/site-packages/konlpy/tag/_okt.py:16: UserWarning: \"Twitter\" has changed to \"Okt\" since KoNLPy v0.4.5.\n",
      "  warn('\"Twitter\" has changed to \"Okt\" since KoNLPy v0.4.5.')\n"
     ]
    },
    {
     "name": "stdout",
     "output_type": "stream",
     "text": [
      "것(644)그(554)말(485)안(304)소리(196)길(194)용이(193)눈(188)놈(180)내(174)사람(167)봉(165)치수(160)평산(160)얼굴(156)거(152)네(151)일(149)이(148)못(147)댁(141)생각(141)때(139)강청댁(137)수(134)서방(131)집(131)나(122)더(120)서희(119)머(116)어디(112)마을(111)최(110)년(109)김(99)칠성(97)구천이(96)니(96)뒤(91)제(90)날(90)아이(88)하나(84)녀(83)두(83)참판(82)월(82)손(81)임(79)\n"
     ]
    }
   ],
   "source": [
    "import codecs #책에서는 codecs.open 사용하기 위해 import했지만 사용하지 않고 해보려 한다.\n",
    "from bs4 import BeautifulSoup\n",
    "from konlpy.tag import Twitter\n",
    "\n",
    "#utf-16으로 인코딩.\n",
    "f=open(\"BEXX0003.txt\",\"r\",encoding=\"utf-16\")\n",
    "soup=BeautifulSoup(f,\"html.parser\")\n",
    "body=soup.select_one(\"body > text\")\n",
    "text=body.getText()\n",
    "f.close()\n",
    "\n",
    "#텍스트를 한 줄씩 처리하기\n",
    "twitter=Twitter()\n",
    "word_dic={}\n",
    "lines=text.split(\"\\n\")\n",
    "for line in lines:\n",
    "    malist=twitter.pos(line)\n",
    "    for word in malist:\n",
    "        if word[1]==\"Noun\":\n",
    "            if not(word[0] in word_dic):\n",
    "                word_dic[word[0]]=0\n",
    "            word_dic[word[0]]+=1\n",
    "\n",
    "\n",
    "#명사 출력\n",
    "keys=sorted(word_dic.items(), key=lambda x:x[1], reverse=True)\n",
    "for word, count in keys[:50]:\n",
    "    print(\"{0}({1})\".format(word, count), end=\"\")\n",
    "print()    "
   ]
  },
  {
   "cell_type": "code",
   "execution_count": null,
   "metadata": {},
   "outputs": [],
   "source": []
  }
 ],
 "metadata": {
  "kernelspec": {
   "display_name": "Python 3",
   "language": "python",
   "name": "python3"
  },
  "language_info": {
   "codemirror_mode": {
    "name": "ipython",
    "version": 3
   },
   "file_extension": ".py",
   "mimetype": "text/x-python",
   "name": "python",
   "nbconvert_exporter": "python",
   "pygments_lexer": "ipython3",
   "version": "3.6.6"
  }
 },
 "nbformat": 4,
 "nbformat_minor": 2
}
